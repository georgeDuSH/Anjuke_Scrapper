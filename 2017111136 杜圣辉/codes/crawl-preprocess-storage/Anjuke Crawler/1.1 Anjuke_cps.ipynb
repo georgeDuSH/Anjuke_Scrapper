{
 "cells": [
  {
   "cell_type": "markdown",
   "metadata": {},
   "source": [
    "# **0 写在开始之前**\n",
    "\n",
    "> - ***课题***: Housing Price Analysis —— 杨浦区二手房房价分析\n",
    "> - ***作者***: 杜圣辉 2017111136\n",
    "> - ***班级***: 17级信息管理于信息系统1班\n",
    "> - ***课程***: 数据科学导论\n",
    "> - ***日期***: 2020年4月-6月\n",
    "\n",
    "## **0.1 注释与引用**\n",
    "- **注释**：正如报告中所说的一样,我会在脚本中把一切有必要的注释都写上来便于助教学长或韩老师阅读;\n",
    "- **引用**：我用的编辑器是 [jupyter lab](https://jupyterlab.readthedocs.io/en/stable/)，在一些文件引用的格式上可能和其他编辑器有出入，请根据您的需要更改地址； \n",
    "\n",
    "## **0.2 关于爬虫工具**\n",
    "- 这里我用了selenium工具包:\n",
    "    - 它在爬取过程中会对一个浏览器对象进行自动化操作能够高度模仿我们日常的浏览行为(必要时候也需要更改请求头和IP,但本次不会涉及);\n",
    "    - 其操作和web开发时候很类似,通过查询元素的标签类型(a,p,div等),id,class,xpath等来完成对网页的操作,同时可以通过对文本框的 clear(), send_keys(), click()等方法来完成一些基本的表单填写和交互;\n",
    "    - 关于详细的上手,可以参考这篇文章:\n",
    "    - 但是在一切开始之前,若要调试代码,可以安装您谷歌浏览器对应的chromedirver,并将应用程序的地址将我的覆盖:\n",
    "        - [ChromeDriver与Chrome版本对应参照表及ChromeDriver下载链接](https://blog.csdn.net/BinGISer/article/details/88559532);\n",
    "\n",
    "## **0.3 关于存储**\n",
    "- **CSV FILE**：\n",
    "    - 在数据存储方面，为了方便展示，我会暂且保存为csv文件；\n",
    "- **MySQL**：\n",
    "    - 有关于数据库的存储操作，我会在代码块中注释掉；\n",
    "    - 我会确保所有的对标操作都是<u>可以执行的脚本代码</u>；\n",
    "    - 这里会涉及到另外两个脚本文件，三者会互相协同完成对表操作，分别为：\n",
    "        - [mydb.py](mydb.py): 我尝试通过编写数据库查询类，来完成基础的对表操作；\n",
    "        - [sql.py](sql.py): 存放mydb.py中所需的sql脚本；\n",
    "\n",
    "## **0.4 关于结构**\n",
    "- 本脚本会集中于数据爬取、存储、*初步预处理*\n",
    "- 进一步的数据预处理可以移步[Attemptation.ipynb]()和[Further_Analysis.ipynb]()部分：\n",
    "    - **Attemptation**: 包含我根据已有字段进行初步的数据分析；\n",
    "    - **Further Analysis**：已有字段中尽管有房屋周边信息（学校、基础设施、交通等），但是不够完整，于是我寻求百度地图（API无法精确，我使用的是坐标拾取系统）完成进一步的数据处理，并将舒适步行距离内的各种设施进行统计，完成进一步的特征构建，并带入回归模型中进行计算；"
   ]
  },
  {
   "cell_type": "markdown",
   "metadata": {},
   "source": [
    "# **1 初始化**\n",
    "\n",
    "首先需要引入相关的工具包、定义爬取数据的边界"
   ]
  },
  {
   "cell_type": "code",
   "execution_count": 1,
   "metadata": {},
   "outputs": [],
   "source": [
    "import selenium\n",
    "from selenium import webdriver\n",
    "import pandas as pd\n",
    "import time, random\n",
    "import numpy as np\n",
    "import warnings\n",
    "warnings.filterwarnings('ignore')\n",
    "\n",
    "options=webdriver.ChromeOptions()\n",
    "options.add_argument('--ignore-certificate-errors') # 类似于warnings中的filterwarnings('ignore')\n",
    "\n",
    "\"\"\"注意：这里需要把chromedriver的路径修改为您电脑里安装的chromedriver的路径\"\"\"\n",
    "chromedriver = 'C:/Users/Dushenghui/PycharmProjects/dailypy/venv/chromedriver.exe'\n",
    "# phantomjs = 'C:/Users/Dushenghui/PycharmProjects/dailypy/venv/phantomjs-2.1.1-windows/bin/phantomjs' # 当然这里也可以用PhantomJS\n",
    "\n",
    "base_url = \"https://shanghai.anjuke.com/sale/\" # 基础url\n",
    "antispam = \"https://nanjing.anjuke.com/antispam-block/?from=antispam\" # 反爬虫链接，匹配，如果进入这个网站就退出爬虫\n",
    "\n",
    "# 如果需要更多的数据，可以去尝试把外部大循环的列表扩充为这里的字典\n",
    "# dict_district = ['pudong', 'minhang', 'baoshan', 'xuhui', 'songjiang', 'jiading',\\\n",
    "#                  'jingan', 'putuo', 'yangpu', 'hongkou', 'changning', 'huangpu', \\\n",
    "#                  'qingpu', 'fengxian', 'chongming', 'shanghaizhoubian']\n",
    "\n",
    "# 为了方便起见，同时为了能够更加细化模型，这里选择爬取杨浦区的数据\n",
    "dict_district1 = ['yangpu']\n",
    "\n",
    "# 初始化driver对象\n",
    "driver = webdriver.Chrome(executable_path=chromedriver, chrome_options=options)\n",
    "# driver = webdriver.PhantomJS(executable_path=phantomjs)  # Phantom的初始化方法亦然\n",
    "\n",
    "# 函数工具1：确保我得到的结果是对应XPATH中的文本或空值\n",
    "#   - 方便后续数据处理（正则匹配 or 填充缺失值）\n",
    "#   - 这是由于网页本身的元素导致的，有些信息可能不会存在，按照XPATH或者CLASS寻找都会出现这样的问题\n",
    "def get_my_page_elem_by_xpath(browser, elem_xpath):\n",
    "    \"\"\"\n",
    "        get_my_page_elem_by_xpath： 根据输入的elem_xpath，再browser中返回对应路径中存储的文本\n",
    "            - browser：selenium.webdriver()\n",
    "            - elem_xpath: string\n",
    "    \"\"\"\n",
    "    try:\n",
    "        # find element, if not found in the page, return null instead\n",
    "        return browser.find_element_by_xpath(elem_xpath).text\n",
    "    except:\n",
    "        try:\n",
    "            return browser.find_element_by_xpath(elem_xpath)\n",
    "        except:\n",
    "            return None"
   ]
  },
  {
   "cell_type": "markdown",
   "metadata": {},
   "source": [
    "# **2 爬取**\n",
    "\n",
    "这里通过三个循环完成爬取:\n",
    "- 循环1: 对区循环(目前只有杨浦,但如果要扩大数据集范围可以额外加上别的区);\n",
    "- 循环2: 对页循环(完成对一个区下所有页的遍历,值得注意的是这里安居客所展示的最大页数为50页,同豆瓣类似);\n",
    "- 循环3: 对房循环(这里的房指的是一页下的房源)\n",
    "\n",
    "另外,数据存储会在爬完之后进行操作"
   ]
  },
  {
   "cell_type": "code",
   "execution_count": null,
   "metadata": {},
   "outputs": [],
   "source": [
    "lst = []\n",
    "\n",
    "\"\"\"【外部循环】：实现对不同_区_的遍历\"\"\"\n",
    "for item_district in dict_district1:\n",
    "    # todo：得到当前区爬虫的url，加上格式化输入的空间，实现对每一页的遍历爬取\n",
    "    #     - current_district: 形如 https://shanghai.anjuke.com/sale/pudong/p{0}\n",
    "    current_district = base_url + str(item_district) + '/p{0}'\n",
    "    \n",
    "    # 设置最开始的页数\n",
    "    #     - 这个循环只有当前区爬取完毕后才会停止\n",
    "    current_page_number = 1\n",
    "    \n",
    "    \"\"\"【内部循环】：实现对同一区内不同_页_的遍历\"\"\"\n",
    "    while True:\n",
    "        # current_page: 形如 https://shanghai.anjuke.com/sale/pudong/p1\n",
    "        current_page = current_district.format(current_page_number)\n",
    "        driver.get(current_page)\n",
    "        print(driver.current_url)\n",
    "        # todo：检验，如果当前的url同base相同的情况：\n",
    "        #     - 也就是说，超出了本区最大页数，安居客会自动返回到base；\n",
    "        #     - 表明本区爬取完毕，进入下一个区； \n",
    "        if driver.current_url == base_url:\n",
    "            break\n",
    "\n",
    "        if 'antispam' in (driver.current_url).lower() or 'ant-ispam' in (driver.current_url).lower():\n",
    "            break\n",
    "\n",
    "        # todo：此时仍然在本区中，可以继续爬取数据\n",
    "        else:\n",
    "            # todo: 得到当前页所有房屋信息的div，作为获得每一套房屋连接的基础\n",
    "            house_elems = driver.find_elements_by_class_name('houseListTitle')\n",
    "            \n",
    "            for item_house in house_elems:\n",
    "                \n",
    "                if driver.current_url == antispam:\n",
    "                    break\n",
    "                \n",
    "                item_house_url = item_house.get_attribute('href') # 得到每个url\n",
    "                js_open_item_house = 'window.open(\"{0}\");'.format(str(item_house_url)) # 讲网页放入JavaScript指令当中，便于之后打开操作\n",
    "                driver.execute_script(js_open_item_house) # 打开新的网页\n",
    "\n",
    "                ori_page = driver.window_handles[0] # 变量存放原本的第一页\n",
    "                new_page = driver.window_handles[-1] # 变量存放新打开的一页\n",
    "                \n",
    "                # todo: 将selenium对象切换到新的页面中\n",
    "                driver.switch_to_window(new_page) # selenium 的特性，虽然打开了一个新的tab，但是并不会立刻将状态默认转移到那个tab中去\n",
    "\n",
    "                print(driver.current_url)\n",
    "                \n",
    "                # 房屋标题\n",
    "                title = get_my_page_elem_by_xpath(driver, '//*[@id=\"content\"]/div[2]/h3')\n",
    "                # 房屋面积\n",
    "                house_total_price = get_my_page_elem_by_xpath(driver, '//*[@id=\"content\"]/div[3]/div[1]/div[1]/div[1]/span[1]/em')\n",
    "                # 房屋信息\n",
    "                info_detail = get_my_page_elem_by_xpath(driver, '//*[@id=\"content\"]/div[3]/div[1]/div[3]/div/div[1]/ul') \n",
    "                # 小区总面积\n",
    "                comm_area = get_my_page_elem_by_xpath(driver, '//*[@id=\"content\"]/div[3]/div[1]/div[6]/div[2]/div[1]/p[2]')\n",
    "                # 小区总户数\n",
    "                comm_households = get_my_page_elem_by_xpath(driver, '//*[@id=\"content\"]/div[3]/div[1]/div[6]/div[2]/div[2]/p[2]/text()')\n",
    "                # 小区容积率\n",
    "                comm_plot_ratio = get_my_page_elem_by_xpath(driver, '//*[@id=\"content\"]/div[3]/div[1]/div[6]/div[2]/div[3]/p[2]')\n",
    "                # 小区停车位数\n",
    "                comm_parking_num = get_my_page_elem_by_xpath(driver, '//*[@id=\"content\"]/div[3]/div[1]/div[6]/div[2]/div[4]/p[2]/text()')\n",
    "                # 小区绿化率\n",
    "                comm_green_ratio = get_my_page_elem_by_xpath(driver, '//*[@id=\"content\"]/div[3]/div[1]/div[6]/div[2]/div[5]/p[2]')\n",
    "                # 小区物业费\n",
    "                comm_property_fee = get_my_page_elem_by_xpath(driver, '//*[@id=\"content\"]/div[3]/div[1]/div[6]/div[2]/div[6]/p[2]')\n",
    "                # 专家解读优点\n",
    "                adv = get_my_page_elem_by_xpath(driver, '//*[@id=\"content\"]/div[3]/div[1]/div[7]/ul/li/div[1]/dl[1]')\n",
    "                # 专家解读不足\n",
    "                disadv = get_my_page_elem_by_xpath(driver, '//*[@id=\"content\"]/div[3]/div[1]/div[7]/ul/li/div[1]/dl[2]')\n",
    "                # 核心卖点\n",
    "                core_point = get_my_page_elem_by_xpath(driver, '//*[@id=\"content\"]/div[3]/div[1]/div[3]/div/div[2]/div[1]/div/span')\n",
    "                \n",
    "\n",
    "                lst.append([title, house_total_price, info_detail, comm_area, comm_households, comm_plot_ratio, comm_parking_num, \\\n",
    "                            comm_green_ratio, comm_property_fee, item_district, adv, disadv, core_point, driver.current_url])\n",
    "                \n",
    "                print(item_district, ' p', current_page_number, ': ', lst[-1])\n",
    "                # todo: 令selenium对象：\n",
    "                #     - 关闭打开的房屋页面，并\n",
    "                #     - 切回到初始页面中；\n",
    "                driver.close()\n",
    "                driver.switch_to_window(ori_page)\n",
    "                time.sleep(random.random()*3)\n",
    "                \n",
    "                # break\n",
    "                # if len(lst)==15:\n",
    "                    # break\n",
    "\n",
    "            current_page_number += 1\n",
    "            # break\n",
    "        # break"
   ]
  },
  {
   "cell_type": "markdown",
   "metadata": {},
   "source": [
    "# **3 数据清洗和预处理**"
   ]
  },
  {
   "cell_type": "code",
   "execution_count": null,
   "metadata": {},
   "outputs": [],
   "source": [
    "# 这里进行分块，是为了防止数据保存出错，而导致需要重新爬取\n",
    "\n",
    "house = pd.DataFrame(\n",
    "    lst, \n",
    "    columns = ['title', 'house_price', 'house_info', 'comm_area', 'comm_households', 'comm_plot_ratio', 'comm_parking_num', \\\n",
    "              'comm_green_ratio', 'comm_property_fee', 'item_district', 'adv', 'disadv', 'core_point', 'url']\n",
    ")\n",
    "\n",
    "# house.to_csv('anjuke_house.csv', index=False)"
   ]
  },
  {
   "cell_type": "code",
   "execution_count": 1,
   "metadata": {},
   "outputs": [],
   "source": [
    "from mydb import mydb # 我自己编写的数据库操作包，核心是基于pymysql，根据需求进行方法添加即可\n",
    "import selenium\n",
    "from selenium import webdriver\n",
    "import pandas as pd\n",
    "import time, random\n",
    "import numpy as np\n",
    "import warnings\n",
    "warnings.filterwarnings('ignore')\n",
    "\n",
    "# 工具2：展示df的基本属性\n",
    "def show_df(df):\n",
    "    return pd.DataFrame({\n",
    "                'col' : df.columns.tolist(),\n",
    "                'dtype' : [df[item].dtype for item in df.columns.tolist()],\n",
    "                'uniqueVals' : [df[item].unique().shape[0] for item in df.columns.tolist()],\n",
    "                'missingVals' : [df[item].isnull().sum() for item in df.columns.tolist()]\n",
    "            }).sort_values(by='missingVals', ascending=False)\n",
    "\n",
    "house=pd.read_csv('input/anjuke_house.csv')"
   ]
  },
  {
   "cell_type": "code",
   "execution_count": 2,
   "metadata": {},
   "outputs": [
    {
     "output_type": "stream",
     "name": "stdout",
     "text": "(3084, 14)\n"
    },
    {
     "output_type": "execute_result",
     "data": {
      "text/plain": "                          title  house_price  \\\n0  业主是我老客户，跟我定好一手房，急需首付，急售，随时看房        350.0   \n1    杨浦区低于市场的双南两房！热门小区！抢手户型中间楼层        285.0   \n\n                                          house_info comm_area  \\\n0  所属小区：\\n翔顺公寓\\n房屋户型：\\n2室 2厅 1卫\\n房屋单价：\\n48611 元/m...        暂无   \n1  所属小区：\\n三门路510弄小区\\n房屋户型：\\n2室 1厅 1卫\\n房屋单价：\\n4260...   58000m²   \n\n   comm_households comm_plot_ratio  comm_parking_num comm_green_ratio  \\\n0              NaN             1.8               NaN              25%   \n1              NaN            1.86               NaN              25%   \n\n  comm_property_fee item_district  \\\n0          0.60元/m²        yangpu   \n1          0.84元/m²        yangpu   \n\n                                                 adv  \\\n0  特色\\n【小区户型】小区主要是以多层为主近83栋，一房朝南，50-60平。两房以双南厅朝北为...   \n1  特色\\n【小区户型】小区栋数较多，车位较少。小区户型大多都在40-70平方左右。分别是南北户...   \n\n                        disadv  \\\n0  不足\\n距离地铁稍微远一点 车位有点紧张 绿化稍微少点   \n1           不足\\n小区房龄较老，小区车位较少。   \n\n                                          core_point  \\\n0  房源标签\\n售房详情\\n业主是置换的，诚意出售。看房提前约，**无要求。希望能尽量快**。\\...   \n1  该小区位于三门路上，属于老公房小区！\\n两房的主力户型为54㎡~66㎡，得房率高！\\n该房户...   \n\n                                                 url  \n0  https://shanghai.anjuke.com/prop/view/A5071614...  \n1  https://shanghai.anjuke.com/prop/view/A5084124...  ",
      "text/html": "<div>\n<style scoped>\n    .dataframe tbody tr th:only-of-type {\n        vertical-align: middle;\n    }\n\n    .dataframe tbody tr th {\n        vertical-align: top;\n    }\n\n    .dataframe thead th {\n        text-align: right;\n    }\n</style>\n<table border=\"1\" class=\"dataframe\">\n  <thead>\n    <tr style=\"text-align: right;\">\n      <th></th>\n      <th>title</th>\n      <th>house_price</th>\n      <th>house_info</th>\n      <th>comm_area</th>\n      <th>comm_households</th>\n      <th>comm_plot_ratio</th>\n      <th>comm_parking_num</th>\n      <th>comm_green_ratio</th>\n      <th>comm_property_fee</th>\n      <th>item_district</th>\n      <th>adv</th>\n      <th>disadv</th>\n      <th>core_point</th>\n      <th>url</th>\n    </tr>\n  </thead>\n  <tbody>\n    <tr>\n      <th>0</th>\n      <td>业主是我老客户，跟我定好一手房，急需首付，急售，随时看房</td>\n      <td>350.0</td>\n      <td>所属小区：\\n翔顺公寓\\n房屋户型：\\n2室 2厅 1卫\\n房屋单价：\\n48611 元/m...</td>\n      <td>暂无</td>\n      <td>NaN</td>\n      <td>1.8</td>\n      <td>NaN</td>\n      <td>25%</td>\n      <td>0.60元/m²</td>\n      <td>yangpu</td>\n      <td>特色\\n【小区户型】小区主要是以多层为主近83栋，一房朝南，50-60平。两房以双南厅朝北为...</td>\n      <td>不足\\n距离地铁稍微远一点 车位有点紧张 绿化稍微少点</td>\n      <td>房源标签\\n售房详情\\n业主是置换的，诚意出售。看房提前约，**无要求。希望能尽量快**。\\...</td>\n      <td>https://shanghai.anjuke.com/prop/view/A5071614...</td>\n    </tr>\n    <tr>\n      <th>1</th>\n      <td>杨浦区低于市场的双南两房！热门小区！抢手户型中间楼层</td>\n      <td>285.0</td>\n      <td>所属小区：\\n三门路510弄小区\\n房屋户型：\\n2室 1厅 1卫\\n房屋单价：\\n4260...</td>\n      <td>58000m²</td>\n      <td>NaN</td>\n      <td>1.86</td>\n      <td>NaN</td>\n      <td>25%</td>\n      <td>0.84元/m²</td>\n      <td>yangpu</td>\n      <td>特色\\n【小区户型】小区栋数较多，车位较少。小区户型大多都在40-70平方左右。分别是南北户...</td>\n      <td>不足\\n小区房龄较老，小区车位较少。</td>\n      <td>该小区位于三门路上，属于老公房小区！\\n两房的主力户型为54㎡~66㎡，得房率高！\\n该房户...</td>\n      <td>https://shanghai.anjuke.com/prop/view/A5084124...</td>\n    </tr>\n  </tbody>\n</table>\n</div>"
     },
     "metadata": {},
     "execution_count": 2
    }
   ],
   "source": [
    "print(house.shape)\n",
    "house.head(2)"
   ]
  },
  {
   "cell_type": "code",
   "execution_count": 3,
   "metadata": {},
   "outputs": [],
   "source": [
    "# 查找函数，这里可以确保会返回一个确定的值而不会报错，接下来的查找步骤都会基于这个函数\n",
    "def get_re_elem(pattern, string):\n",
    "    import re\n",
    "    try:\n",
    "        return re.findall(pattern, string, re.S)[0]\n",
    "    except:\n",
    "        return np.NaN\n",
    "\n",
    "house['comm_name'] = house['house_info'].apply(lambda x: get_re_elem(r'所属小区：\\n(.*?)\\n', x))\n",
    "\n",
    "house = house[house['comm_name'].notnull()]"
   ]
  },
  {
   "cell_type": "code",
   "execution_count": 4,
   "metadata": {},
   "outputs": [
    {
     "output_type": "stream",
     "name": "stdout",
     "text": "(2141, 15)\n"
    },
    {
     "output_type": "execute_result",
     "data": {
      "text/plain": "                  col    dtype  uniqueVals  missingVals\n4     comm_households  float64           1         2141\n6    comm_parking_num  float64           1         2141\n10                adv   object        1247          175\n11             disadv   object        1185          175\n3           comm_area   object         167           11\n5     comm_plot_ratio   object          73           11\n7    comm_green_ratio   object          35           11\n8   comm_property_fee   object         104           11\n0               title   object        2055            4\n12         core_point   object        1877            3\n1         house_price  float64         488            0\n2          house_info   object        2124            0\n9       item_district   object           1            0\n13                url   object        2141            0\n14          comm_name   object         563            0",
      "text/html": "<div>\n<style scoped>\n    .dataframe tbody tr th:only-of-type {\n        vertical-align: middle;\n    }\n\n    .dataframe tbody tr th {\n        vertical-align: top;\n    }\n\n    .dataframe thead th {\n        text-align: right;\n    }\n</style>\n<table border=\"1\" class=\"dataframe\">\n  <thead>\n    <tr style=\"text-align: right;\">\n      <th></th>\n      <th>col</th>\n      <th>dtype</th>\n      <th>uniqueVals</th>\n      <th>missingVals</th>\n    </tr>\n  </thead>\n  <tbody>\n    <tr>\n      <th>4</th>\n      <td>comm_households</td>\n      <td>float64</td>\n      <td>1</td>\n      <td>2141</td>\n    </tr>\n    <tr>\n      <th>6</th>\n      <td>comm_parking_num</td>\n      <td>float64</td>\n      <td>1</td>\n      <td>2141</td>\n    </tr>\n    <tr>\n      <th>10</th>\n      <td>adv</td>\n      <td>object</td>\n      <td>1247</td>\n      <td>175</td>\n    </tr>\n    <tr>\n      <th>11</th>\n      <td>disadv</td>\n      <td>object</td>\n      <td>1185</td>\n      <td>175</td>\n    </tr>\n    <tr>\n      <th>3</th>\n      <td>comm_area</td>\n      <td>object</td>\n      <td>167</td>\n      <td>11</td>\n    </tr>\n    <tr>\n      <th>5</th>\n      <td>comm_plot_ratio</td>\n      <td>object</td>\n      <td>73</td>\n      <td>11</td>\n    </tr>\n    <tr>\n      <th>7</th>\n      <td>comm_green_ratio</td>\n      <td>object</td>\n      <td>35</td>\n      <td>11</td>\n    </tr>\n    <tr>\n      <th>8</th>\n      <td>comm_property_fee</td>\n      <td>object</td>\n      <td>104</td>\n      <td>11</td>\n    </tr>\n    <tr>\n      <th>0</th>\n      <td>title</td>\n      <td>object</td>\n      <td>2055</td>\n      <td>4</td>\n    </tr>\n    <tr>\n      <th>12</th>\n      <td>core_point</td>\n      <td>object</td>\n      <td>1877</td>\n      <td>3</td>\n    </tr>\n    <tr>\n      <th>1</th>\n      <td>house_price</td>\n      <td>float64</td>\n      <td>488</td>\n      <td>0</td>\n    </tr>\n    <tr>\n      <th>2</th>\n      <td>house_info</td>\n      <td>object</td>\n      <td>2124</td>\n      <td>0</td>\n    </tr>\n    <tr>\n      <th>9</th>\n      <td>item_district</td>\n      <td>object</td>\n      <td>1</td>\n      <td>0</td>\n    </tr>\n    <tr>\n      <th>13</th>\n      <td>url</td>\n      <td>object</td>\n      <td>2141</td>\n      <td>0</td>\n    </tr>\n    <tr>\n      <th>14</th>\n      <td>comm_name</td>\n      <td>object</td>\n      <td>563</td>\n      <td>0</td>\n    </tr>\n  </tbody>\n</table>\n</div>"
     },
     "metadata": {},
     "execution_count": 4
    }
   ],
   "source": [
    "house = house[house['house_info'].notnull()] # 在进一步分析中，很多的特征基于info，因此将这里为空的那些去除\n",
    "\n",
    "# 同时，这里需要对数据进行去重处理，这是因为有些同一房源会找多个中介、用统一的话术进行发布，也可能是同一个中介屡次发布一样的房源导致的\n",
    "# 这时候只需要用title和info字段共同去重就可以了：\n",
    "house = house.drop_duplicates(subset=['title','house_info']).reset_index(drop=True)\n",
    "print(house.shape)\n",
    "show_df(house)"
   ]
  },
  {
   "cell_type": "markdown",
   "metadata": {},
   "source": [
    "观测数目从3084被删减了2141\n",
    "\n",
    "接下来进行数据存储"
   ]
  },
  {
   "cell_type": "code",
   "execution_count": 5,
   "metadata": {},
   "outputs": [
    {
     "output_type": "stream",
     "name": "stdout",
     "text": "(2141, 9)\n"
    },
    {
     "output_type": "execute_result",
     "data": {
      "text/plain": "   index                         title  house_price  \\\n0      0  业主是我老客户，跟我定好一手房，急需首付，急售，随时看房        350.0   \n1      1    杨浦区低于市场的双南两房！热门小区！抢手户型中间楼层        285.0   \n\n                                          house_info  \\\n0  所属小区：\\n翔顺公寓\\n房屋户型：\\n2室 2厅 1卫\\n房屋单价：\\n48611 元/m...   \n1  所属小区：\\n三门路510弄小区\\n房屋户型：\\n2室 1厅 1卫\\n房屋单价：\\n4260...   \n\n                                                 adv  \\\n0  特色\\n【小区户型】小区主要是以多层为主近83栋，一房朝南，50-60平。两房以双南厅朝北为...   \n1  特色\\n【小区户型】小区栋数较多，车位较少。小区户型大多都在40-70平方左右。分别是南北户...   \n\n                        disadv  \\\n0  不足\\n距离地铁稍微远一点 车位有点紧张 绿化稍微少点   \n1           不足\\n小区房龄较老，小区车位较少。   \n\n                                          core_point  comm_name  \\\n0  房源标签\\n售房详情\\n业主是置换的，诚意出售。看房提前约，**无要求。希望能尽量快**。\\...       翔顺公寓   \n1  该小区位于三门路上，属于老公房小区！\\n两房的主力户型为54㎡~66㎡，得房率高！\\n该房户...  三门路510弄小区   \n\n                                                 url  \n0  https://shanghai.anjuke.com/prop/view/A5071614...  \n1  https://shanghai.anjuke.com/prop/view/A5084124...  ",
      "text/html": "<div>\n<style scoped>\n    .dataframe tbody tr th:only-of-type {\n        vertical-align: middle;\n    }\n\n    .dataframe tbody tr th {\n        vertical-align: top;\n    }\n\n    .dataframe thead th {\n        text-align: right;\n    }\n</style>\n<table border=\"1\" class=\"dataframe\">\n  <thead>\n    <tr style=\"text-align: right;\">\n      <th></th>\n      <th>index</th>\n      <th>title</th>\n      <th>house_price</th>\n      <th>house_info</th>\n      <th>adv</th>\n      <th>disadv</th>\n      <th>core_point</th>\n      <th>comm_name</th>\n      <th>url</th>\n    </tr>\n  </thead>\n  <tbody>\n    <tr>\n      <th>0</th>\n      <td>0</td>\n      <td>业主是我老客户，跟我定好一手房，急需首付，急售，随时看房</td>\n      <td>350.0</td>\n      <td>所属小区：\\n翔顺公寓\\n房屋户型：\\n2室 2厅 1卫\\n房屋单价：\\n48611 元/m...</td>\n      <td>特色\\n【小区户型】小区主要是以多层为主近83栋，一房朝南，50-60平。两房以双南厅朝北为...</td>\n      <td>不足\\n距离地铁稍微远一点 车位有点紧张 绿化稍微少点</td>\n      <td>房源标签\\n售房详情\\n业主是置换的，诚意出售。看房提前约，**无要求。希望能尽量快**。\\...</td>\n      <td>翔顺公寓</td>\n      <td>https://shanghai.anjuke.com/prop/view/A5071614...</td>\n    </tr>\n    <tr>\n      <th>1</th>\n      <td>1</td>\n      <td>杨浦区低于市场的双南两房！热门小区！抢手户型中间楼层</td>\n      <td>285.0</td>\n      <td>所属小区：\\n三门路510弄小区\\n房屋户型：\\n2室 1厅 1卫\\n房屋单价：\\n4260...</td>\n      <td>特色\\n【小区户型】小区栋数较多，车位较少。小区户型大多都在40-70平方左右。分别是南北户...</td>\n      <td>不足\\n小区房龄较老，小区车位较少。</td>\n      <td>该小区位于三门路上，属于老公房小区！\\n两房的主力户型为54㎡~66㎡，得房率高！\\n该房户...</td>\n      <td>三门路510弄小区</td>\n      <td>https://shanghai.anjuke.com/prop/view/A5084124...</td>\n    </tr>\n  </tbody>\n</table>\n</div>"
     },
     "metadata": {},
     "execution_count": 5
    }
   ],
   "source": [
    "house_table = house[['title', 'house_price', 'house_info', 'adv', 'disadv', \\\n",
    "                     'core_point', 'comm_name', 'url']].reset_index()\n",
    "print(house_table.shape)\n",
    "house_table.to_csv('input/house_table.csv', index = False)\n",
    "house_table.head(2)\n",
    "\n"
   ]
  },
  {
   "cell_type": "code",
   "execution_count": 6,
   "metadata": {},
   "outputs": [
    {
     "output_type": "stream",
     "name": "stdout",
     "text": "(563, 7)\n"
    },
    {
     "output_type": "execute_result",
     "data": {
      "text/plain": "   comm_name comm_area  comm_households comm_plot_ratio  comm_parking_num  \\\n0       翔顺公寓        暂无              NaN             1.8               NaN   \n1  三门路510弄小区   58000m²              NaN            1.86               NaN   \n2  腾越路465弄小区        暂无              NaN              暂无               NaN   \n3       国和二村   38400m²              NaN               2               NaN   \n4       开鲁五村   36000m²              NaN             1.5               NaN   \n\n  comm_green_ratio comm_property_fee  \n0              25%          0.60元/m²  \n1              25%          0.84元/m²  \n2               暂无          0.60元/m²  \n3              40%          0.55元/m²  \n4              25%          0.55元/m²  ",
      "text/html": "<div>\n<style scoped>\n    .dataframe tbody tr th:only-of-type {\n        vertical-align: middle;\n    }\n\n    .dataframe tbody tr th {\n        vertical-align: top;\n    }\n\n    .dataframe thead th {\n        text-align: right;\n    }\n</style>\n<table border=\"1\" class=\"dataframe\">\n  <thead>\n    <tr style=\"text-align: right;\">\n      <th></th>\n      <th>comm_name</th>\n      <th>comm_area</th>\n      <th>comm_households</th>\n      <th>comm_plot_ratio</th>\n      <th>comm_parking_num</th>\n      <th>comm_green_ratio</th>\n      <th>comm_property_fee</th>\n    </tr>\n  </thead>\n  <tbody>\n    <tr>\n      <th>0</th>\n      <td>翔顺公寓</td>\n      <td>暂无</td>\n      <td>NaN</td>\n      <td>1.8</td>\n      <td>NaN</td>\n      <td>25%</td>\n      <td>0.60元/m²</td>\n    </tr>\n    <tr>\n      <th>1</th>\n      <td>三门路510弄小区</td>\n      <td>58000m²</td>\n      <td>NaN</td>\n      <td>1.86</td>\n      <td>NaN</td>\n      <td>25%</td>\n      <td>0.84元/m²</td>\n    </tr>\n    <tr>\n      <th>2</th>\n      <td>腾越路465弄小区</td>\n      <td>暂无</td>\n      <td>NaN</td>\n      <td>暂无</td>\n      <td>NaN</td>\n      <td>暂无</td>\n      <td>0.60元/m²</td>\n    </tr>\n    <tr>\n      <th>3</th>\n      <td>国和二村</td>\n      <td>38400m²</td>\n      <td>NaN</td>\n      <td>2</td>\n      <td>NaN</td>\n      <td>40%</td>\n      <td>0.55元/m²</td>\n    </tr>\n    <tr>\n      <th>4</th>\n      <td>开鲁五村</td>\n      <td>36000m²</td>\n      <td>NaN</td>\n      <td>1.5</td>\n      <td>NaN</td>\n      <td>25%</td>\n      <td>0.55元/m²</td>\n    </tr>\n  </tbody>\n</table>\n</div>"
     },
     "metadata": {},
     "execution_count": 6
    }
   ],
   "source": [
    "comm_table = house[['comm_name', 'comm_area', 'comm_households', 'comm_plot_ratio', 'comm_parking_num', 'comm_green_ratio', 'comm_property_fee']].drop_duplicates(subset=['comm_name']).reset_index(drop=True)\n",
    "\n",
    "print(comm_table.shape)\n",
    "comm_table.to_csv('input/comm_table.csv', index = False)\n",
    "comm_table.head()"
   ]
  },
  {
   "cell_type": "code",
   "execution_count": 7,
   "metadata": {},
   "outputs": [
    {
     "output_type": "stream",
     "name": "stdout",
     "text": "Clear Table house Success\nClear Table community Success\nInitialize Success\n"
    }
   ],
   "source": [
    "from mydb import *\n",
    "\n",
    "host = \"localhost\"\n",
    "user = \"root\"\n",
    "password = \"123\"\n",
    "database = \"py_database_anjuke\"\n",
    "\n",
    "db = mydb(host, user, password, database)\n",
    "db.anjuke_data_initialize() # 用来初始化数据库的表单的列"
   ]
  },
  {
   "cell_type": "code",
   "execution_count": 10,
   "metadata": {},
   "outputs": [
    {
     "output_type": "stream",
     "name": "stdout",
     "text": "Finish Initialize COMMUNITY\n"
    }
   ],
   "source": [
    "db.insert(table_name_indb='COMMUNITY', pd_table=comm_table)"
   ]
  },
  {
   "cell_type": "code",
   "execution_count": 11,
   "metadata": {},
   "outputs": [
    {
     "output_type": "stream",
     "name": "stdout",
     "text": "Finish Initialize HOUSE\n"
    }
   ],
   "source": [
    "db.insert(table_name_indb='HOUSE', pd_table=house_table)"
   ]
  },
  {
   "cell_type": "code",
   "execution_count": null,
   "metadata": {},
   "outputs": [],
   "source": []
  }
 ],
 "metadata": {
  "kernelspec": {
   "display_name": "Python 3.6.5 64-bit",
   "language": "python",
   "name": "python36564bitd5038edf9a5b4373a464de56a7a5524b"
  },
  "language_info": {
   "codemirror_mode": {
    "name": "ipython",
    "version": 3
   },
   "file_extension": ".py",
   "mimetype": "text/x-python",
   "name": "python",
   "nbconvert_exporter": "python",
   "pygments_lexer": "ipython3",
   "version": "3.6.5-final"
  }
 },
 "nbformat": 4,
 "nbformat_minor": 4
}