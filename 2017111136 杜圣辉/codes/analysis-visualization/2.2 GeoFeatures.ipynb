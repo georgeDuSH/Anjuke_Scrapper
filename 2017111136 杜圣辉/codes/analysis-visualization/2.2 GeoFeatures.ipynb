{
 "cells": [
  {
   "cell_type": "markdown",
   "metadata": {},
   "source": [
    "# **1 数据读取**\n",
    "这里承接的是之前的数据信息。我们读取的数据包含两部分：\n",
    "\n",
    "1. **房屋特征**: 上一次回归过程中所利用的房屋特征（字段处理过后）；\n",
    "    - *[yangpu_house.csv]*: 存储房屋特征的数据文件；"
   ]
  },
  {
   "cell_type": "code",
   "execution_count": 16,
   "metadata": {},
   "outputs": [
    {
     "output_type": "execute_result",
     "data": {
      "text/plain": "   comm_name comm_area  comm_households comm_plot_ratio  comm_parking_num  \\\n0       翔顺公寓        暂无              NaN             1.8               NaN   \n1  三门路510弄小区   58000m²              NaN            1.86               NaN   \n2  腾越路465弄小区        暂无              NaN              暂无               NaN   \n3       国和二村   38400m²              NaN               2               NaN   \n4       开鲁五村   36000m²              NaN             1.5               NaN   \n\n  comm_green_ratio comm_property_fee  \n0              25%          0.60元/m²  \n1              25%          0.84元/m²  \n2               暂无          0.60元/m²  \n3              40%          0.55元/m²  \n4              25%          0.55元/m²  ",
      "text/html": "<div>\n<style scoped>\n    .dataframe tbody tr th:only-of-type {\n        vertical-align: middle;\n    }\n\n    .dataframe tbody tr th {\n        vertical-align: top;\n    }\n\n    .dataframe thead th {\n        text-align: right;\n    }\n</style>\n<table border=\"1\" class=\"dataframe\">\n  <thead>\n    <tr style=\"text-align: right;\">\n      <th></th>\n      <th>comm_name</th>\n      <th>comm_area</th>\n      <th>comm_households</th>\n      <th>comm_plot_ratio</th>\n      <th>comm_parking_num</th>\n      <th>comm_green_ratio</th>\n      <th>comm_property_fee</th>\n    </tr>\n  </thead>\n  <tbody>\n    <tr>\n      <th>0</th>\n      <td>翔顺公寓</td>\n      <td>暂无</td>\n      <td>NaN</td>\n      <td>1.8</td>\n      <td>NaN</td>\n      <td>25%</td>\n      <td>0.60元/m²</td>\n    </tr>\n    <tr>\n      <th>1</th>\n      <td>三门路510弄小区</td>\n      <td>58000m²</td>\n      <td>NaN</td>\n      <td>1.86</td>\n      <td>NaN</td>\n      <td>25%</td>\n      <td>0.84元/m²</td>\n    </tr>\n    <tr>\n      <th>2</th>\n      <td>腾越路465弄小区</td>\n      <td>暂无</td>\n      <td>NaN</td>\n      <td>暂无</td>\n      <td>NaN</td>\n      <td>暂无</td>\n      <td>0.60元/m²</td>\n    </tr>\n    <tr>\n      <th>3</th>\n      <td>国和二村</td>\n      <td>38400m²</td>\n      <td>NaN</td>\n      <td>2</td>\n      <td>NaN</td>\n      <td>40%</td>\n      <td>0.55元/m²</td>\n    </tr>\n    <tr>\n      <th>4</th>\n      <td>开鲁五村</td>\n      <td>36000m²</td>\n      <td>NaN</td>\n      <td>1.5</td>\n      <td>NaN</td>\n      <td>25%</td>\n      <td>0.55元/m²</td>\n    </tr>\n  </tbody>\n</table>\n</div>"
     },
     "metadata": {},
     "execution_count": 16
    }
   ],
   "source": [
    "# 导入数据包\n",
    "import pandas as pd\n",
    "import numpy as np\n",
    "import matplotlib.pyplot as plt\n",
    "import seaborn as sns\n",
    "import copy\n",
    "import warnings\n",
    "import re\n",
    "from selenium import webdriver\n",
    "import json\n",
    "import re\n",
    "warnings.filterwarnings('ignore')\n",
    "\n",
    "# 工具1：展示df的基本属性\n",
    "def show_df(df):\n",
    "    return pd.DataFrame({\n",
    "                'col' : df.columns.tolist(),\n",
    "                'dtype' : [df[item].dtype for item in df.columns.tolist()],\n",
    "                'uniqueVals' : [df[item].unique().shape[0] for item in df.columns.tolist()],\n",
    "                'missingVals' : [df[item].isnull().sum() for item in df.columns.tolist()]\n",
    "            }).sort_values(by='missingVals', ascending=False)\n",
    "\n",
    "# 读取数据表\n",
    "\n",
    "house = pd.read_csv('input/house_table.csv')\n",
    "comm = pd.read_csv('input/comm_table.csv')\n",
    "comm.head()"
   ]
  },
  {
   "cell_type": "markdown",
   "metadata": {},
   "source": [
    "# **2 地理信息扩充**\n",
    "\n",
    "由于本身在优点、核心卖点、标题中对于地理位置信息的描述不是很清楚，这里决定在原有的特征基础上增加周边设施的特征，从两个方面考虑：\n",
    "\n",
    "- 首先，是小区本身的地理信息特征，这是由小区的地址相联系的；\n",
    "- 其次，是小区周围的配套生活设施，包含四类，分别是学校、商圈、地铁站、基础设施（医院、公园）；\n",
    "\n",
    "通过selenium，对百度坐标拾取系统进行爬虫，我完成了这一步操作。\n",
    "\n",
    "但是在此之前，先要确定我需要查询的内容：\n",
    "\n",
    "---\n",
    "\n",
    "## 备注1\n",
    "我选择通过selenium完成这一步的爬虫，基于以下两个原因：\n",
    "1. **意料之外的字符**：在我使用格式化输入来url （仅当含有'http://'）的时候，python似乎会自动在 '&' 符号后家上 'amp;'，而这一字符是无法 replace 掉的；\n",
    "2. **编辑方式**：通过request，将这一链接进行post的时候，目前版本的百度API无法识别，会判为 “AK无效”，而selenium则可以不带 'http://' 完成url编辑(这样就不会被自动加上 'amp;'了)；\n",
    "\n",
    "## 备注2\n",
    "我选择通过[百度坐标拾取系统](http://api.map.baidu.com/lbsapi/getpoint/index.html)，而非[百度地图API（正/逆地理编码）](http://lbsyun.baidu.com/index.php?title=webapi/guide/webservice-geocoding)完成，基于以下原因：\n",
    "\n",
    "1. **精度**：API的正/逆编码服务所提供的查询精度特别差，在我输入关键词比较模糊的时候，很难识别出我想要的指什么（都会返回默认的上层坐标，而不是小区或其他地点左边），而拾取系统似乎更加智能；\n"
   ]
  },
  {
   "cell_type": "markdown",
   "metadata": {},
   "source": [
    "## **2.1 爬虫** "
   ]
  },
  {
   "cell_type": "code",
   "execution_count": 2,
   "metadata": {},
   "outputs": [],
   "source": [
    "primary_school = ['打虎山路第一小学', '水丰路小学', '复旦大学附属小学', '杨浦小学', '控江二村小学', '杨浦复旦科技园小学', '齐齐哈尔路第一小学', '杨浦六一小学', '上海市民办沪东外国语学校']\n",
    "\n",
    "middle_school = ['兰生复旦中学', '上海同济大学附属存志学校', '复旦大学第二附属中学', '上海外国语大学附属双语学校', '上海控江中学附属民办学校']\n",
    "\n",
    "high_school = ['复旦大学附属中学', '交通大学附属中学', '同济大学第一附属中学', '杨浦高级中学', '控江中学']\n",
    "\n",
    "college = ['复旦大学', '上海财经大学', '同济大学', '上海体育学院']\n",
    "\n",
    "busness_center = ['五角场', '鞍山新村', '黄兴公园', '江湾新城', '控江路', '平凉路', '中原路', '嫩江路']\n",
    "\n",
    "subway = ['爱国路地铁站', '翔殷路地铁站', ' 市光路地铁站', '国权路地铁站', '鞍山新村地铁站', ' 三门路地铁站', '  江浦路地铁站', '黄兴路地铁站', ' 宁国路地铁站', '五角场地铁站', ' 杨树浦路地铁站', '江湾体育场地铁站', '四平路地铁站', '隆昌路地铁站', '大连路地铁站', '大柏树地铁站', '江湾镇地铁站']\n",
    "\n",
    "hospital = ['上海交通大学医学院附属新华医院', '上海市肺科医院', '上海长海医院', '上海东方肝胆外科医院']\n",
    "\n",
    "public_garden = ['和平公园', '黄兴公园', '杨浦公园', '新江湾城公园', '民星公园', '四平科技公园', '杨浦公园', '共青森林公园']"
   ]
  },
  {
   "cell_type": "code",
   "execution_count": null,
   "metadata": {},
   "outputs": [],
   "source": [
    "chromedriver = 'C:/Users/Dushenghui/PycharmProjects/dailypy/venv/chromedriver.exe'\n",
    "driver = webdriver.Chrome(executable_path=chromedriver)\n",
    "\n",
    "base_url = 'http://api.map.baidu.com/lbsapi/getpoint/index.html'\n",
    "driver.get(base_url)"
   ]
  },
  {
   "cell_type": "code",
   "execution_count": null,
   "metadata": {},
   "outputs": [],
   "source": [
    "import time, random\n",
    "\n",
    "def table_extloc(table_2q)\n",
    "    global driver\n",
    "\n",
    "    dic = {}\n",
    "    for idx, item in enumerate(table_2q):\n",
    "        print(item)\n",
    "        driver.find_element_by_id('localvalue').clear()\n",
    "        driver.find_element_by_id('localvalue').send_keys(item)\n",
    "        driver.find_element_by_id('localsearch').click()\n",
    "        time.sleep(random.random()*5)\n",
    "        info = driver.find_element_by_xpath('//*[@id=\"no0\"]').text\n",
    "        print(info)\n",
    "        dic[item] = info\n",
    "        time.sleep(random.random()*5)\n",
    "\n",
    "    df = pd.DataFrame({'loc':list(dic.keys()), 'info':list(dic.values())})\n",
    "    return df\n",
    "\n",
    "business_yp = table_extloc(busness_center)\n",
    "garden_yp = table_extloc(public_garden)\n",
    "hospital_yp = table_extloc(hospital)\n",
    "subway_yp = table_extloc(subway)\n",
    "school_yp = table_extloc(primary_school+middle_school+high_school+college)\n",
    "comm_yp = table_extloc(comm.comm_name.unique)\n",
    "\n",
    "# business_yp.to_csv('input/yangpu_business.csv', index=False)\n",
    "# garden_yp.to_csv('input/yangpu_garden.csv', index=False)\n",
    "# hospital_yp.to_csv('input/yangpu_hospital.csv', index=False)\n",
    "# subway_yp.to_csv('input/yangpu_subway.csv', index=False)\n",
    "# school_yp.to_csv('input/yangpu_school.csv', index=False)"
   ]
  },
  {
   "cell_type": "markdown",
   "metadata": {},
   "source": [
    "## **2.2 数据读取** \n",
    "1. **房屋地理信息**: 根据房屋信息，回到百度地图中进行爬取的经纬度信息；\n",
    "    - *[comm_geoloc.csv]*: \n",
    "2. **周边设施地理信息**: 存储杨浦区周边相关的配套设施信息，具体有：\n",
    "    - *[yangpu_business.csv]*: 存储杨浦区<u>商圈信息</u>；\n",
    "    - *[yangpu_garden.csv]*: 存储杨浦区<u>公园</u>信息；\n",
    "    - *[yangpu_hospital.csv]*: 存储杨浦区<u>医院</u>信息；\n",
    "    - *[yangpu_subway.csv]*: 存储杨浦区<u>地铁</u>信息；\n",
    "    - *[yangpu_school.csv]*: 存储杨浦区<u>学校（众点小学、初中、高中、大学）</u>信息；"
   ]
  },
  {
   "cell_type": "code",
   "execution_count": 7,
   "metadata": {},
   "outputs": [
    {
     "output_type": "execute_result",
     "data": {
      "text/plain": "    loc                                               info\n0   五角场  五角场广场\\n地址：上海市杨浦区中环路与黄兴路交叉路口南侧(UMAX悠迈生活广场北侧约50米...\n1  鞍山新村         鞍山新村\\n途径地铁：地铁8号线\\n坐标：121.516196,31.278969;\n2  黄兴公园  黄兴公园\\n地址：上海市杨浦区营口路639号\\n电话：(021)65512506\\n坐标：1...\n3  江湾新城          江湾新城\\n地址：上海市杨浦区\\n坐标：121.517944,31.330478;\n4   控江路            控江路\\n地址：上海市杨浦区\\n坐标：121.52174,31.279952;",
      "text/html": "<div>\n<style scoped>\n    .dataframe tbody tr th:only-of-type {\n        vertical-align: middle;\n    }\n\n    .dataframe tbody tr th {\n        vertical-align: top;\n    }\n\n    .dataframe thead th {\n        text-align: right;\n    }\n</style>\n<table border=\"1\" class=\"dataframe\">\n  <thead>\n    <tr style=\"text-align: right;\">\n      <th></th>\n      <th>loc</th>\n      <th>info</th>\n    </tr>\n  </thead>\n  <tbody>\n    <tr>\n      <th>0</th>\n      <td>五角场</td>\n      <td>五角场广场\\n地址：上海市杨浦区中环路与黄兴路交叉路口南侧(UMAX悠迈生活广场北侧约50米...</td>\n    </tr>\n    <tr>\n      <th>1</th>\n      <td>鞍山新村</td>\n      <td>鞍山新村\\n途径地铁：地铁8号线\\n坐标：121.516196,31.278969;</td>\n    </tr>\n    <tr>\n      <th>2</th>\n      <td>黄兴公园</td>\n      <td>黄兴公园\\n地址：上海市杨浦区营口路639号\\n电话：(021)65512506\\n坐标：1...</td>\n    </tr>\n    <tr>\n      <th>3</th>\n      <td>江湾新城</td>\n      <td>江湾新城\\n地址：上海市杨浦区\\n坐标：121.517944,31.330478;</td>\n    </tr>\n    <tr>\n      <th>4</th>\n      <td>控江路</td>\n      <td>控江路\\n地址：上海市杨浦区\\n坐标：121.52174,31.279952;</td>\n    </tr>\n  </tbody>\n</table>\n</div>"
     },
     "metadata": {},
     "execution_count": 7
    }
   ],
   "source": [
    "# business_yp = pd.read_csv('input/yangpu_business.csv')\n",
    "# garden_yp = pd.read_csv('input/yangpu_garden.csv')\n",
    "# hospital_yp = pd.read_csv('input/yangpu_hospital.csv')\n",
    "# subway_yp = pd.read_csv('input/yangpu_subway.csv')\n",
    "# school_yp = pd.read_csv('input/yangpu_school.csv')\n",
    "\n",
    "business_yp['info']+=';'\n",
    "garden_yp['info']+=';'\n",
    "hospital_yp['info']+=';'\n",
    "subway_yp['info']+=';'\n",
    "school_yp['info']+=';'\n",
    "\n",
    "business_yp.head()"
   ]
  },
  {
   "cell_type": "code",
   "execution_count": 8,
   "metadata": {},
   "outputs": [
    {
     "output_type": "execute_result",
     "data": {
      "text/plain": "          loc                                               info\n0  文化佳园(公寓住宅)                                                NaN\n1        控江四村  控江四村小区\\n地址：上海市杨浦区松花江路977弄\\n坐标：121.531555,31.29...\n2        市光一村       市光一村\\n地址：国和路80-87号\\n坐标：121.542728,31.322039;\n3        鞍山八村   鞍山八村住宅小区\\n地址：上海市杨浦区彰武路\\n坐标：121.517715,31.285928;\n4   本溪路165弄小区  本溪路165弄小区\\n地址：上海市杨浦区本溪路165弄1~10号\\n电话：(021)5596...",
      "text/html": "<div>\n<style scoped>\n    .dataframe tbody tr th:only-of-type {\n        vertical-align: middle;\n    }\n\n    .dataframe tbody tr th {\n        vertical-align: top;\n    }\n\n    .dataframe thead th {\n        text-align: right;\n    }\n</style>\n<table border=\"1\" class=\"dataframe\">\n  <thead>\n    <tr style=\"text-align: right;\">\n      <th></th>\n      <th>loc</th>\n      <th>info</th>\n    </tr>\n  </thead>\n  <tbody>\n    <tr>\n      <th>0</th>\n      <td>文化佳园(公寓住宅)</td>\n      <td>NaN</td>\n    </tr>\n    <tr>\n      <th>1</th>\n      <td>控江四村</td>\n      <td>控江四村小区\\n地址：上海市杨浦区松花江路977弄\\n坐标：121.531555,31.29...</td>\n    </tr>\n    <tr>\n      <th>2</th>\n      <td>市光一村</td>\n      <td>市光一村\\n地址：国和路80-87号\\n坐标：121.542728,31.322039;</td>\n    </tr>\n    <tr>\n      <th>3</th>\n      <td>鞍山八村</td>\n      <td>鞍山八村住宅小区\\n地址：上海市杨浦区彰武路\\n坐标：121.517715,31.285928;</td>\n    </tr>\n    <tr>\n      <th>4</th>\n      <td>本溪路165弄小区</td>\n      <td>本溪路165弄小区\\n地址：上海市杨浦区本溪路165弄1~10号\\n电话：(021)5596...</td>\n    </tr>\n  </tbody>\n</table>\n</div>"
     },
     "metadata": {},
     "execution_count": 8
    }
   ],
   "source": [
    "# comm_yp = pd.read_csv('input/comm_geoloc.csv')\n",
    "comm_yp['info']+=';'\n",
    "comm_yp.head()"
   ]
  },
  {
   "cell_type": "markdown",
   "metadata": {},
   "source": [
    "# **3 数据清洗**\n",
    "可以看到这里的地理位置信息数据是一个字符串类型的网页文本，无法直接拿来进入模型分析，因此需要：\n",
    "\n",
    "1. **检验错误**：\n",
    "    - 在操作过程中，有些地理信息找到的匹配项是错误的，这是网站和网站之间的差异带来的，此时需要去结合代码和人工进行检验排查，并将正确的地理信息填入；\n",
    "2. **数据填补**：\n",
    "    - 会发现有些选项没有找到，这里的情况比较少（约三条），直接人力填补即可；"
   ]
  },
  {
   "cell_type": "markdown",
   "metadata": {},
   "source": [
    "**3.1 小区地理坐标清洗**\n",
    "\n",
    "本清洗流程分为两部分：\n",
    "\n",
    "1. 首先填充缺失值；\n",
    "2. 随后根据需要，通过正则匹配提取地理坐标；"
   ]
  },
  {
   "cell_type": "code",
   "execution_count": 9,
   "metadata": {},
   "outputs": [],
   "source": [
    "def get_geo_loc_lon(loc_desc):\n",
    "    import re\n",
    "    try:\n",
    "        lon = re.findall(r'坐标：(.*?),.*', loc_desc, re.S)[0]\n",
    "        return lon\n",
    "    except:\n",
    "        return np.NaN\n",
    "\n",
    "def get_geo_loc_lat(loc_desc):\n",
    "    import re\n",
    "    try:\n",
    "        lat = re.findall(r'坐标：.*,(.*?);', loc_desc, re.S)[0]\n",
    "        return lat\n",
    "    except:\n",
    "        return np.NaN\n",
    "\n",
    "# 得到经纬度\n",
    "def lat_lon(df):\n",
    "    df['lat'] = df['info'].apply(get_geo_loc_lat).astype(np.float)\n",
    "    df['lon'] = df['info'].apply(get_geo_loc_lon).astype(np.float)\n",
    "    df = df.drop_duplicates(subset=['info'])\n",
    "    return df[[x for x in df.columns if x not in ['info']]]"
   ]
  },
  {
   "cell_type": "code",
   "execution_count": 10,
   "metadata": {},
   "outputs": [],
   "source": [
    "comm_yp[comm_yp['info'].isnull()]\n",
    "loc_comm = {\n",
    "    '文化佳园(公寓住宅)': '坐标：121.53171,31.294969;',\n",
    "    '江南华府': '坐标：121.531555,31.290912;',\n",
    "    '林园': '坐标：121.521332,31.266074;' \n",
    "}\n",
    "\n",
    "comm_yp.loc[0, 'info'] = loc_comm['文化佳园(公寓住宅)']\n",
    "comm_yp.loc[277, 'info'] = loc_comm['江南华府']\n",
    "comm_yp.loc[304, 'info'] = loc_comm['林园']\n",
    "\n",
    "# comm_yp.isnull().sum()\n",
    "# loc     0\n",
    "# info    0\n",
    "# dtype: int64"
   ]
  },
  {
   "cell_type": "code",
   "execution_count": 11,
   "metadata": {},
   "outputs": [
    {
     "output_type": "execute_result",
     "data": {
      "text/plain": "loc    文化佳园(公寓住宅)\nlat        31.295\nlon       121.532\nName: 0, dtype: object"
     },
     "metadata": {},
     "execution_count": 11
    }
   ],
   "source": [
    "comm_yp['lat'] = comm_yp['info'].apply(get_geo_loc_lat).astype(np.float)\n",
    "comm_yp['lon'] = comm_yp['info'].apply(get_geo_loc_lon).astype(np.float)\n",
    "\n",
    "del comm_yp['info']\n",
    "\n",
    "# comm_yp.isnull().sum()\n",
    "# loc     0\n",
    "# info    0\n",
    "# lon     0\n",
    "# lat     0\n",
    "# dtype: int64\n",
    "\n",
    "comm_yp.iloc[0]"
   ]
  },
  {
   "cell_type": "code",
   "execution_count": 12,
   "metadata": {},
   "outputs": [
    {
     "output_type": "stream",
     "name": "stdout",
     "text": "<class 'pandas.core.frame.DataFrame'>\nRangeIndex: 563 entries, 0 to 562\nData columns (total 3 columns):\n #   Column  Non-Null Count  Dtype  \n---  ------  --------------  -----  \n 0   loc     563 non-null    object \n 1   lat     563 non-null    float64\n 2   lon     563 non-null    float64\ndtypes: float64(2), object(1)\nmemory usage: 13.3+ KB\n"
    }
   ],
   "source": [
    "comm_yp.info()"
   ]
  },
  {
   "cell_type": "markdown",
   "metadata": {},
   "source": [
    "**3.2 周边设施坐标清洗**\n",
    "\n",
    "本清洗流程分为两部分：\n",
    "\n",
    "1. 随后根据需要，通过正则匹配提取地理坐标；\n",
    "2. 接着，根据地理坐标检验是否有重合项，并回到百度中重新检查(已从文档渠道完成数据更新)；"
   ]
  },
  {
   "cell_type": "code",
   "execution_count": 13,
   "metadata": {},
   "outputs": [
    {
     "output_type": "execute_result",
     "data": {
      "text/plain": "loc        五角场\nlat    31.3055\nlon    121.522\nName: 0, dtype: object"
     },
     "metadata": {},
     "execution_count": 13
    }
   ],
   "source": [
    "business_yp = lat_lon(business_yp)\n",
    "# origin:((8, 4), unique:(8,))\n",
    "garden_yp = lat_lon(garden_yp)\n",
    "# origin((7, 4), unique(5,))\n",
    "hospital_yp = lat_lon(hospital_yp)\n",
    "# origin((4, 4), unique(4,))\n",
    "subway_yp = lat_lon(subway_yp)\n",
    "# origin((17, 4), unique(16,))\n",
    "school_yp = lat_lon(school_yp)\n",
    "# origin((28, 4), unique(24,))\n",
    "business_yp.iloc[0]"
   ]
  },
  {
   "cell_type": "markdown",
   "metadata": {},
   "source": [
    "# **4 特征构建**\n",
    "\n",
    "这里会根据四个维度进行计算小区到周边生活设施的距离，并根据一定的范围，计算在这一半径下的特定设施数目，主要包含：\n",
    "\n",
    "1. trans：小区附近的交通情况，这里用subway；\n",
    "2. school：小区附近的学校情况，这里列入计算的是school；\n",
    "3. business：小区周边的商圈，business会被列入计算；\n",
    "4. fundamental：小区周边的基础设施，这里计算公园、医院；\n",
    "\n",
    "但是在此之前，首先要去把原本DataFrame中的字段删除"
   ]
  },
  {
   "cell_type": "code",
   "execution_count": 18,
   "metadata": {},
   "outputs": [],
   "source": [
    "fund_yp = pd.concat([hospital_yp, garden_yp]).reset_index(drop=True)"
   ]
  },
  {
   "cell_type": "code",
   "execution_count": 19,
   "metadata": {},
   "outputs": [],
   "source": [
    "from geopy.distance import great_circle\n",
    "\n",
    "# 舒适步行距离\n",
    "comfort_distance = 1.5\n",
    "\n",
    "def distance_count(lat, lon, df):\n",
    "    tmpdf = df[[x for x in df.columns]]\n",
    "    lst = []\n",
    "    comm_tp = (lat, lon)\n",
    "    for idx in list(tmpdf.index):\n",
    "        item_tp = (tmpdf.loc[idx, 'lat'], tmpdf.loc[idx, 'lon'])\n",
    "        lst.append(great_circle(item_tp, comm_tp).kilometers)\n",
    "\n",
    "    count = (np.array(lst)<=comfort_distance).sum()\n",
    "    return count"
   ]
  },
  {
   "cell_type": "code",
   "execution_count": 20,
   "metadata": {
    "tags": [
     "outputPrepend",
     "outputPrepend",
     "outputPrepend",
     "outputPrepend",
     "outputPrepend",
     "outputPrepend",
     "outputPrepend",
     "outputPrepend",
     "outputPrepend",
     "outputPrepend",
     "outputPrepend",
     "outputPrepend",
     "outputPrepend",
     "outputPrepend",
     "outputPrepend",
     "outputPrepend",
     "outputPrepend",
     "outputPrepend",
     "outputPrepend",
     "outputPrepend",
     "outputPrepend",
     "outputPrepend",
     "outputPrepend",
     "outputPrepend",
     "outputPrepend",
     "outputPrepend",
     "outputPrepend",
     "outputPrepend",
     "outputPrepend",
     "outputPrepend",
     "outputPrepend",
     "outputPrepend",
     "outputPrepend",
     "outputPrepend",
     "outputPrepend",
     "outputPrepend",
     "outputPrepend",
     "outputPrepend",
     "outputPrepend",
     "outputPrepend",
     "outputPrepend",
     "outputPrepend",
     "outputPrepend",
     "outputPrepend",
     "outputPrepend",
     "outputPrepend",
     "outputPrepend",
     "outputPrepend",
     "outputPrepend",
     "outputPrepend",
     "outputPrepend",
     "outputPrepend",
     "outputPrepend",
     "outputPrepend",
     "outputPrepend",
     "outputPrepend",
     "outputPrepend",
     "outputPrepend",
     "outputPrepend",
     "outputPrepend",
     "outputPrepend",
     "outputPrepend",
     "outputPrepend",
     "outputPrepend",
     "outputPrepend",
     "outputPrepend",
     "outputPrepend",
     "outputPrepend",
     "outputPrepend",
     "outputPrepend",
     "outputPrepend",
     "outputPrepend",
     "outputPrepend",
     "outputPrepend",
     "outputPrepend",
     "outputPrepend",
     "outputPrepend",
     "outputPrepend",
     "outputPrepend",
     "outputPrepend",
     "outputPrepend",
     "outputPrepend",
     "outputPrepend",
     "outputPrepend",
     "outputPrepend",
     "outputPrepend",
     "outputPrepend",
     "outputPrepend"
    ]
   },
   "outputs": [
    {
     "output_type": "execute_result",
     "data": {
      "text/plain": "            loc        lat         lon  trans  school  business  fundamental\n0    文化佳园(公寓住宅)  31.294969  121.531710      3       7         2            2\n1          控江四村  31.290912  121.531555      3       5         1            2\n2          市光一村  31.322039  121.542728      2       2         2            3\n3          鞍山八村  31.285928  121.517715      4       9         2            3\n4     本溪路165弄小区  31.281318  121.521507      4       6         2            2\n..          ...        ...         ...    ...     ...       ...          ...\n558        和平花苑  31.297570  121.530616      3       7         2            1\n559        翡丽甲第  31.264367  121.525544      2       3         0            1\n560        同济绿园  31.280502  121.518165      3       7         2            2\n561       明丰阳光苑  31.321700  121.530939      2       3         1            3\n562        四季绿园  31.295811  121.522451      2       7         2            1\n\n[563 rows x 7 columns]",
      "text/html": "<div>\n<style scoped>\n    .dataframe tbody tr th:only-of-type {\n        vertical-align: middle;\n    }\n\n    .dataframe tbody tr th {\n        vertical-align: top;\n    }\n\n    .dataframe thead th {\n        text-align: right;\n    }\n</style>\n<table border=\"1\" class=\"dataframe\">\n  <thead>\n    <tr style=\"text-align: right;\">\n      <th></th>\n      <th>loc</th>\n      <th>lat</th>\n      <th>lon</th>\n      <th>trans</th>\n      <th>school</th>\n      <th>business</th>\n      <th>fundamental</th>\n    </tr>\n  </thead>\n  <tbody>\n    <tr>\n      <th>0</th>\n      <td>文化佳园(公寓住宅)</td>\n      <td>31.294969</td>\n      <td>121.531710</td>\n      <td>3</td>\n      <td>7</td>\n      <td>2</td>\n      <td>2</td>\n    </tr>\n    <tr>\n      <th>1</th>\n      <td>控江四村</td>\n      <td>31.290912</td>\n      <td>121.531555</td>\n      <td>3</td>\n      <td>5</td>\n      <td>1</td>\n      <td>2</td>\n    </tr>\n    <tr>\n      <th>2</th>\n      <td>市光一村</td>\n      <td>31.322039</td>\n      <td>121.542728</td>\n      <td>2</td>\n      <td>2</td>\n      <td>2</td>\n      <td>3</td>\n    </tr>\n    <tr>\n      <th>3</th>\n      <td>鞍山八村</td>\n      <td>31.285928</td>\n      <td>121.517715</td>\n      <td>4</td>\n      <td>9</td>\n      <td>2</td>\n      <td>3</td>\n    </tr>\n    <tr>\n      <th>4</th>\n      <td>本溪路165弄小区</td>\n      <td>31.281318</td>\n      <td>121.521507</td>\n      <td>4</td>\n      <td>6</td>\n      <td>2</td>\n      <td>2</td>\n    </tr>\n    <tr>\n      <th>...</th>\n      <td>...</td>\n      <td>...</td>\n      <td>...</td>\n      <td>...</td>\n      <td>...</td>\n      <td>...</td>\n      <td>...</td>\n    </tr>\n    <tr>\n      <th>558</th>\n      <td>和平花苑</td>\n      <td>31.297570</td>\n      <td>121.530616</td>\n      <td>3</td>\n      <td>7</td>\n      <td>2</td>\n      <td>1</td>\n    </tr>\n    <tr>\n      <th>559</th>\n      <td>翡丽甲第</td>\n      <td>31.264367</td>\n      <td>121.525544</td>\n      <td>2</td>\n      <td>3</td>\n      <td>0</td>\n      <td>1</td>\n    </tr>\n    <tr>\n      <th>560</th>\n      <td>同济绿园</td>\n      <td>31.280502</td>\n      <td>121.518165</td>\n      <td>3</td>\n      <td>7</td>\n      <td>2</td>\n      <td>2</td>\n    </tr>\n    <tr>\n      <th>561</th>\n      <td>明丰阳光苑</td>\n      <td>31.321700</td>\n      <td>121.530939</td>\n      <td>2</td>\n      <td>3</td>\n      <td>1</td>\n      <td>3</td>\n    </tr>\n    <tr>\n      <th>562</th>\n      <td>四季绿园</td>\n      <td>31.295811</td>\n      <td>121.522451</td>\n      <td>2</td>\n      <td>7</td>\n      <td>2</td>\n      <td>1</td>\n    </tr>\n  </tbody>\n</table>\n<p>563 rows × 7 columns</p>\n</div>"
     },
     "metadata": {},
     "execution_count": 20
    }
   ],
   "source": [
    "trans, school, business, fundamental = [], [], [], []\n",
    "\n",
    "for idx_comm in list(comm_yp.index):\n",
    "    comm_lat = comm_yp.loc[idx_comm, 'lat']\n",
    "    comm_lon = comm_yp.loc[idx_comm, 'lon']\n",
    "    trans.append(distance_count(lat=comm_lat, lon=comm_lon, df=subway_yp))\n",
    "    school.append(distance_count(lat=comm_lat, lon=comm_lon, df=school_yp))\n",
    "    business.append(distance_count(lat=comm_lat, lon=comm_lon, df=business_yp))\n",
    "    fundamental.append(distance_count(lat=comm_lat, lon=comm_lon, df=fund_yp))\n",
    "\n",
    "comm_yp['trans'] = trans\n",
    "comm_yp['school'] = school\n",
    "comm_yp['business'] = business\n",
    "comm_yp['fundamental'] = fundamental\n",
    "\n",
    "comm_yp\n",
    "\n"
   ]
  },
  {
   "cell_type": "code",
   "execution_count": 22,
   "metadata": {},
   "outputs": [],
   "source": [
    "comm_yp.to_csv('input/comm_geoloc.csv', index=False)"
   ]
  }
 ],
 "metadata": {
  "kernelspec": {
   "display_name": "Python 3",
   "language": "python",
   "name": "python3"
  },
  "language_info": {
   "codemirror_mode": {
    "name": "ipython",
    "version": 3
   },
   "file_extension": ".py",
   "mimetype": "text/x-python",
   "name": "python",
   "nbconvert_exporter": "python",
   "pygments_lexer": "ipython3",
   "version": "3.6.5-final"
  }
 },
 "nbformat": 4,
 "nbformat_minor": 4
}